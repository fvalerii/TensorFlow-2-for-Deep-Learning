{
  "cells": [
    {
      "cell_type": "markdown",
      "metadata": {
        "id": "vsX0L1sG1iZj"
      },
      "source": [
        "# Capstone Project\n",
        "## Neural translation model\n",
        "### Instructions\n",
        "\n",
        "In this notebook, you will create a neural network that translates from English to German. You will use concepts from throughout this course, including building more flexible model architectures, freezing layers, data processing pipeline and sequence modelling.\n",
        "\n",
        "This project is peer-assessed. Within this notebook you will find instructions in each section for how to complete the project. Pay close attention to the instructions as the peer review will be carried out according to a grading rubric that checks key parts of the project instructions. Feel free to add extra cells into the notebook as required.\n",
        "\n",
        "### How to submit\n",
        "\n",
        "When you have completed the Capstone project notebook, you will submit a pdf of the notebook for peer review. First ensure that the notebook has been fully executed from beginning to end, and all of the cell outputs are visible. This is important, as the grading rubric depends on the reviewer being able to view the outputs of your notebook. Save the notebook as a pdf (you could download the notebook with File -> Download .ipynb, open the notebook locally, and then File -> Download as -> PDF via LaTeX), and then submit this pdf for review.\n",
        "\n",
        "### Let's get started!\n",
        "\n",
        "We'll start by running some imports, and loading the dataset. For this project you are free to make further imports throughout the notebook as you wish."
      ]
    },
    {
      "cell_type": "code",
      "execution_count": 1,
      "metadata": {
        "id": "2VyTvxPN1iZn"
      },
      "outputs": [],
      "source": [
        "import tensorflow as tf\n",
        "import tensorflow_hub as hub\n",
        "import unicodedata\n",
        "import re\n",
        "from IPython.display import Image\n",
        "\n",
        "# Additional imports\n",
        "import numpy as np\n",
        "from tensorflow.keras.preprocessing.text import Tokenizer\n",
        "from tensorflow.keras.preprocessing.sequence import pad_sequences\n",
        "from sklearn.model_selection import train_test_split\n",
        "from tensorflow.keras.layers import (Layer, Input, Masking, LSTM,\n",
        "                                     Embedding, Dense)\n",
        "from tensorflow.keras.regularizers import l2\n",
        "from tensorflow.keras import initializers\n",
        "from tensorflow.keras.models import Model\n",
        "from tensorflow.keras.losses import SparseCategoricalCrossentropy\n",
        "from tensorflow.keras.optimizers import Adam\n",
        "import matplotlib.pyplot as plt"
      ]
    },
    {
      "cell_type": "markdown",
      "metadata": {
        "id": "wuIi4lAR1iZt"
      },
      "source": [
        "For the capstone project, you will use a language dataset from http://www.manythings.org/anki/ to build a neural translation model. This dataset consists of over 200,000 pairs of sentences in English and German. In order to make the training quicker, we will restrict to our dataset to 20,000 pairs. Feel free to change this if you wish - the size of the dataset used is not part of the grading rubric.\n",
        "\n",
        "Your goal is to develop a neural translation model from English to German, making use of a pre-trained English word embedding module."
      ]
    },
    {
      "cell_type": "markdown",
      "metadata": {
        "id": "pi9Dq6vv3FVO"
      },
      "source": [
        "#### Import the data\n",
        "\n",
        "The dataset is available for download as a zip file at the following link:\n",
        "\n",
        "https://drive.google.com/open?id=1KczOciG7sYY7SB9UlBeRP1T9659b121Q\n",
        "\n",
        "You should store the unzipped folder in Drive for use in this Colab notebook."
      ]
    },
    {
      "cell_type": "code",
      "execution_count": 2,
      "metadata": {
        "colab": {
          "base_uri": "https://localhost:8080/"
        },
        "id": "Nw99tEEQ3bKL",
        "outputId": "ff18655e-d483-42b3-ad44-c19d1f48d08e"
      },
      "outputs": [
        {
          "output_type": "stream",
          "name": "stdout",
          "text": [
            "Mounted at /content/gdrive\n"
          ]
        }
      ],
      "source": [
        "# Run this cell to connect to your Drive folder\n",
        "\n",
        "from google.colab import drive\n",
        "drive.mount('/content/gdrive')"
      ]
    },
    {
      "cell_type": "code",
      "execution_count": 3,
      "metadata": {
        "id": "o8PetPpw1iZu"
      },
      "outputs": [],
      "source": [
        "# Run this cell to load the dataset\n",
        "\n",
        "NUM_EXAMPLES = 20000\n",
        "data_examples = []\n",
        "with open('/content/gdrive/MyDrive/Tensor/Course2/5/deu.txt', 'r', encoding='utf8') as f:\n",
        "    for line in f.readlines():\n",
        "        if len(data_examples) < NUM_EXAMPLES:\n",
        "            data_examples.append(line)\n",
        "        else:\n",
        "            break"
      ]
    },
    {
      "cell_type": "code",
      "execution_count": 4,
      "metadata": {
        "id": "JumLjJ631iZy"
      },
      "outputs": [],
      "source": [
        "# These functions preprocess English and German sentences\n",
        "\n",
        "def unicode_to_ascii(s):\n",
        "    return ''.join(c for c in unicodedata.normalize('NFD', s) if unicodedata.category(c) != 'Mn')\n",
        "\n",
        "def preprocess_sentence(sentence):\n",
        "    sentence = sentence.lower().strip()\n",
        "    sentence = re.sub(r\"ü\", 'ue', sentence)\n",
        "    sentence = re.sub(r\"ä\", 'ae', sentence)\n",
        "    sentence = re.sub(r\"ö\", 'oe', sentence)\n",
        "    sentence = re.sub(r'ß', 'ss', sentence)\n",
        "\n",
        "    sentence = unicode_to_ascii(sentence)\n",
        "    sentence = re.sub(r\"([?.!,])\", r\" \\1 \", sentence)\n",
        "    sentence = re.sub(r\"[^a-z?.!,']+\", \" \", sentence)\n",
        "    sentence = re.sub(r'[\" \"]+', \" \", sentence)\n",
        "\n",
        "    return sentence.strip()"
      ]
    },
    {
      "cell_type": "markdown",
      "metadata": {
        "id": "XFJap-TW1iZ2"
      },
      "source": [
        "#### The custom translation model\n",
        "The following is a schematic of the custom translation model architecture you will develop in this project."
      ]
    },
    {
      "cell_type": "code",
      "execution_count": 5,
      "metadata": {
        "colab": {
          "base_uri": "https://localhost:8080/",
          "height": 648
        },
        "id": "gBF1K2JN4RFJ",
        "outputId": "291781b0-bcbf-4fdd-a999-f7828a14b889"
      },
      "outputs": [
        {
          "output_type": "execute_result",
          "data": {
            "image/png": "[encoded data removed]",
            "text/plain": [
              "<IPython.core.display.Image object>"
            ]
          },
          "metadata": {},
          "execution_count": 5
        }
      ],
      "source": [
        "# Run this cell to download and view a schematic diagram for the neural translation model\n",
        "\n",
        "!wget -q -O neural_translation_model.png --no-check-certificate \"https://docs.google.com/uc?export=download&id=1XsS1VlXoaEo-RbYNilJ9jcscNZvsSPmd\"\n",
        "Image(\"neural_translation_model.png\")"
      ]
    },
    {
      "cell_type": "markdown",
      "metadata": {
        "id": "0fP7P-yK4RS7"
      },
      "source": [
        "The custom model consists of an encoder RNN and a decoder RNN. The encoder takes words of an English sentence as input, and uses a pre-trained word embedding to embed the words into a 128-dimensional space. To indicate the end of the input sentence, a special end token (in the same 128-dimensional space) is passed in as an input. This token is a TensorFlow Variable that is learned in the training phase (unlike the pre-trained word embedding, which is frozen).\n",
        "\n",
        "The decoder RNN takes the internal state of the encoder network as its initial state. A start token is passed in as the first input, which is embedded using a learned German word embedding. The decoder RNN then makes a prediction for the next German word, which during inference is then passed in as the following input, and this process is repeated until the special `<end>` token is emitted from the decoder."
      ]
    },
    {
      "cell_type": "markdown",
      "metadata": {
        "id": "z70nu6_01iZ3"
      },
      "source": [
        "## 1. Text preprocessing\n",
        "* Create separate lists of English and German sentences, and preprocess them using the `preprocess_sentence` function provided for you above.\n",
        "* Add a special `\"<start>\"` and `\"<end>\"` token to the beginning and end of every German sentence.\n",
        "* Use the Tokenizer class from the `tf.keras.preprocessing.text` module to tokenize the German sentences, ensuring that no character filters are applied. _Hint: use the Tokenizer's \"filter\" keyword argument._\n",
        "* Print out at least 5 randomly chosen examples of (preprocessed) English and German sentence pairs. For the German sentence, print out the text (with start and end tokens) as well as the tokenized sequence.\n",
        "* Pad the end of the tokenized German sequences with zeros, and batch the complete set of sequences into one numpy array."
      ]
    },
    {
      "cell_type": "code",
      "execution_count": 6,
      "metadata": {
        "id": "9G20C4bk1iZ4",
        "scrolled": true
      },
      "outputs": [],
      "source": [
        "# Create separate list gor English and German sentences\n",
        "english_sentences = []\n",
        "german_sentences = []\n",
        "\n",
        "for example in data_examples:\n",
        "    english_sentence = example.split('\\t')[0]\n",
        "    german_sentence = example.split('\\t')[1]\n",
        "# Preprocess sentences\n",
        "    preprocessed_english_sentence = preprocess_sentence(english_sentence)\n",
        "    preprocessed_german_sentence = preprocess_sentence(german_sentence)\n",
        "# Add special tokens to German sentences\n",
        "    german_sentence_tokens = '<start> ' + preprocessed_german_sentence + ' <end>'\n",
        "\n",
        "    english_sentences.append(preprocessed_english_sentence)\n",
        "    german_sentences.append(german_sentence_tokens)"
      ]
    },
    {
      "cell_type": "code",
      "execution_count": 7,
      "metadata": {
        "id": "WnIdqZFk1iaA"
      },
      "outputs": [],
      "source": [
        "# Tokenize German sentences\n",
        "tokenizer = Tokenizer(filters='')\n",
        "tokenizer.fit_on_texts(german_sentences)\n",
        "tokenized_german_sentences = tokenizer.texts_to_sequences(german_sentences)"
      ]
    },
    {
      "cell_type": "code",
      "execution_count": 8,
      "metadata": {
        "colab": {
          "base_uri": "https://localhost:8080/"
        },
        "id": "5UlnBdIK1iaE",
        "outputId": "5fe69460-03d8-4acf-a9ec-bfa67e5d966c"
      },
      "outputs": [
        {
          "output_type": "stream",
          "name": "stdout",
          "text": [
            "English sentence(1): tom whistled .\n",
            "German sentence(1) <start> tom pfiff . <end>\n",
            "Tokenized German sentence (1): [1, 5, 2509, 3, 2]\n",
            "\n",
            "English sentence(2): i can't stand him .\n",
            "German sentence(2) <start> ich ertrage ihn nicht . <end>\n",
            "Tokenized German sentence (2): [1, 4, 5596, 44, 12, 3, 2]\n",
            "\n",
            "English sentence(3): mary is pregnant .\n",
            "German sentence(3) <start> mary ist schwanger . <end>\n",
            "Tokenized German sentence (3): [1, 235, 6, 2733, 3, 2]\n",
            "\n",
            "English sentence(4): is he at home ?\n",
            "German sentence(4) <start> ist er daheim ? <end>\n",
            "Tokenized German sentence (4): [1, 6, 14, 1505, 7, 2]\n",
            "\n",
            "English sentence(5): snakes are scary .\n",
            "German sentence(5) <start> vor schlangen habe ich angst . <end>\n",
            "Tokenized German sentence (5): [1, 164, 5065, 18, 4, 190, 3, 2]\n",
            "\n"
          ]
        }
      ],
      "source": [
        "# Print 5 random exapmples\n",
        "rng = np.random.default_rng(seed=10)\n",
        "random_indices = rng.choice(len(english_sentences), size=5, replace=False)\n",
        "for i in range(5):\n",
        "    print(f'English sentence({i+1}): {english_sentences[random_indices[i]]}')\n",
        "    print(f'German sentence({i+1}) {german_sentences[random_indices[i]]}')\n",
        "    print(f'Tokenized German sentence ({i+1}): {tokenized_german_sentences[random_indices[i]]}')\n",
        "    print()"
      ]
    },
    {
      "cell_type": "code",
      "execution_count": 9,
      "metadata": {
        "id": "ZGTaqt1t1iaI"
      },
      "outputs": [],
      "source": [
        "# Pad German sequences\n",
        "padded_german_sentences = pad_sequences(tokenized_german_sentences,\n",
        "                                        padding='post', value=0)"
      ]
    },
    {
      "cell_type": "code",
      "execution_count": 10,
      "metadata": {
        "id": "fqiO7HuQ1iaL"
      },
      "outputs": [],
      "source": [
        "# Batch German sequences in a numpy array\n",
        "german_sentences_batch = np.array(padded_german_sentences)"
      ]
    },
    {
      "cell_type": "markdown",
      "metadata": {
        "id": "foL7Ihs21iaP"
      },
      "source": [
        "## 2. Prepare the data"
      ]
    },
    {
      "cell_type": "markdown",
      "metadata": {
        "id": "-9rCEE4z1iaQ"
      },
      "source": [
        "#### Load the embedding layer\n",
        "As part of the dataset preproceessing for this project, you will use a pre-trained English word embedding module from TensorFlow Hub. The URL for the module is https://tfhub.dev/google/tf2-preview/nnlm-en-dim128-with-normalization/1.\n",
        "\n",
        "This embedding takes a batch of text tokens in a 1-D tensor of strings as input. It then embeds the separate tokens into a 128-dimensional space.\n",
        "\n",
        "The code to load and test the embedding layer is provided for you below.\n",
        "\n",
        "**NB:** this model can also be used as a sentence embedding module. The module will process each token by removing punctuation and splitting on spaces. It then averages the word embeddings over a sentence to give a single embedding vector. However, we will use it only as a word embedding module, and will pass each word in the input sentence as a separate token."
      ]
    },
    {
      "cell_type": "code",
      "execution_count": 11,
      "metadata": {
        "id": "ywZgobCh1iaR"
      },
      "outputs": [],
      "source": [
        "# Load embedding module from Tensorflow Hub\n",
        "\n",
        "embedding_layer = hub.KerasLayer(\"https://tfhub.dev/google/tf2-preview/nnlm-en-dim128/1\",\n",
        "                                 output_shape=[128], input_shape=[], dtype=tf.string)"
      ]
    },
    {
      "cell_type": "code",
      "execution_count": 12,
      "metadata": {
        "colab": {
          "base_uri": "https://localhost:8080/"
        },
        "id": "TiY8QEDp1iaV",
        "outputId": "e3188e4e-a180-41f6-c9c1-7718a19b2395"
      },
      "outputs": [
        {
          "output_type": "execute_result",
          "data": {
            "text/plain": [
              "TensorShape([7, 128])"
            ]
          },
          "metadata": {},
          "execution_count": 12
        }
      ],
      "source": [
        "# Test the layer\n",
        "\n",
        "embedding_layer(tf.constant([\"these\", \"aren't\", \"the\", \"droids\", \"you're\", \"looking\", \"for\"])).shape"
      ]
    },
    {
      "cell_type": "markdown",
      "metadata": {
        "id": "KjuzXc-z1iaY"
      },
      "source": [
        "You should now prepare the training and validation Datasets.\n",
        "\n",
        "* Create a random training and validation set split of the data, reserving e.g. 20% of the data for validation (NB: each English dataset example is a single sentence string, and each German dataset example is a sequence of padded integer tokens).\n",
        "* Load the training and validation sets into a tf.data.Dataset object, passing in a tuple of English and German data for both training and validation sets.\n",
        "* Create a function to map over the datasets that splits each English sentence at spaces. Apply this function to both Dataset objects using the map method. _Hint: look at the tf.strings.split function._\n",
        "* Create a function to map over the datasets that embeds each sequence of English words using the loaded embedding layer/model. Apply this function to both Dataset objects using the map method.\n",
        "* Create a function to filter out dataset examples where the English sentence is greater than or equal to than 13 (embedded) tokens in length. Apply this function to both Dataset objects using the filter method.\n",
        "* Create a function to map over the datasets that pads each English sequence of embeddings with some distinct padding value before the sequence, so that each sequence is length 13. Apply this function to both Dataset objects using the map method. _Hint: look at the tf.pad function. You can extract a Tensor shape using tf.shape; you might also find the tf.math.maximum function useful._\n",
        "* Batch both training and validation Datasets with a batch size of 16.\n",
        "* Print the `element_spec` property for the training and validation Datasets.\n",
        "* Using the Dataset `.take(1)` method, print the shape of the English data example from the training Dataset.\n",
        "* Using the Dataset `.take(1)` method, print the German data example Tensor from the validation Dataset."
      ]
    },
    {
      "cell_type": "code",
      "execution_count": 13,
      "metadata": {
        "id": "Q-BUJOl_1iaZ"
      },
      "outputs": [],
      "source": [
        "# Create training and validation sets\n",
        "(english_train, english_val, german_train, german_val) = train_test_split(english_sentences, german_sentences_batch, test_size=0.2, random_state=10)"
      ]
    },
    {
      "cell_type": "code",
      "execution_count": 14,
      "metadata": {
        "id": "4w6rM8Bl1iad"
      },
      "outputs": [],
      "source": [
        "# Load sets in tf Dataset objects\n",
        "train_dataset = tf.data.Dataset.from_tensor_slices((english_train, german_train))\n",
        "val_dataset = tf.data.Dataset.from_tensor_slices((english_val, german_val))"
      ]
    },
    {
      "cell_type": "code",
      "execution_count": 15,
      "metadata": {
        "id": "q0Fdso381ian"
      },
      "outputs": [],
      "source": [
        "# Split english sentences at spaces\n",
        "def split_english_sentence(english_sentence, german_sentence):\n",
        "  return tf.strings.split(english_sentence, sep=None), german_sentence\n",
        "\n",
        "train_dataset = train_dataset.map(split_english_sentence)\n",
        "val_dataset = val_dataset.map(split_english_sentence)"
      ]
    },
    {
      "cell_type": "code",
      "execution_count": 16,
      "metadata": {
        "id": "MdqSXEoX1iav"
      },
      "outputs": [],
      "source": [
        "# Embed English sentences with loaded embedding layer\n",
        "def embed_english_words(english_sentence, german_sentence):\n",
        "  return embedding_layer(english_sentence), german_sentence\n",
        "\n",
        "train_dataset = train_dataset.map(embed_english_words)\n",
        "val_dataset = val_dataset.map(embed_english_words)"
      ]
    },
    {
      "cell_type": "code",
      "execution_count": 17,
      "metadata": {
        "id": "WRbQmEnXS3CM"
      },
      "outputs": [],
      "source": [
        "# Filter out English sentences greater than or equal to 13 tokens\n",
        "def filter_english_tokens(english_sentence, german_sentence):\n",
        "  return tf.shape(english_sentence)[0] < 13\n",
        "\n",
        "train_dataset = train_dataset.filter(filter_english_tokens)\n",
        "val_dataset = val_dataset.filter(filter_english_tokens)"
      ]
    },
    {
      "cell_type": "code",
      "execution_count": 18,
      "metadata": {
        "id": "U03JWYUYXjMl"
      },
      "outputs": [],
      "source": [
        "# Pad English sequences\n",
        "def pad_english_sequences(english_sequence, german_sentence):\n",
        "  padding_size = tf.math.maximum(13-tf.shape(english_sequence)[0], 0)\n",
        "  padded_sequence = tf.pad(english_sequence, paddings=[[padding_size, 0], [0,0]], mode='CONSTANT')\n",
        "  return padded_sequence, german_sentence\n",
        "\n",
        "train_dataset = train_dataset.map(pad_english_sequences)\n",
        "val_dataset = val_dataset.map(pad_english_sequences)"
      ]
    },
    {
      "cell_type": "code",
      "execution_count": 19,
      "metadata": {
        "id": "fwQmZtELcP5n"
      },
      "outputs": [],
      "source": [
        "# Batch Datasets with a batch size of 16\n",
        "train_dataset = train_dataset.batch(16)\n",
        "val_dataset = val_dataset.batch(16)"
      ]
    },
    {
      "cell_type": "code",
      "execution_count": 20,
      "metadata": {
        "colab": {
          "base_uri": "https://localhost:8080/"
        },
        "id": "mMvSd6PFcf3Q",
        "outputId": "94e66f55-b349-4608-9d42-27e4afcf7887"
      },
      "outputs": [
        {
          "output_type": "stream",
          "name": "stdout",
          "text": [
            "element_spec of training dataset:\n",
            " (TensorSpec(shape=(None, None, 128), dtype=tf.float32, name=None), TensorSpec(shape=(None, 14), dtype=tf.int32, name=None))\n",
            "\n",
            "element_spec of validation_dataset:\n",
            " (TensorSpec(shape=(None, None, 128), dtype=tf.float32, name=None), TensorSpec(shape=(None, 14), dtype=tf.int32, name=None))\n"
          ]
        }
      ],
      "source": [
        "# Print the element_spec property for the training and validation Datasets\n",
        "print(f'element_spec of training dataset:\\n {train_dataset.element_spec}')\n",
        "print()\n",
        "print(f'element_spec of validation_dataset:\\n {val_dataset.element_spec}')"
      ]
    },
    {
      "cell_type": "code",
      "execution_count": 21,
      "metadata": {
        "colab": {
          "base_uri": "https://localhost:8080/"
        },
        "id": "lkspLEpsd57v",
        "outputId": "40f8327a-e4d5-4fa4-9e1c-a30e56ce4ca4"
      },
      "outputs": [
        {
          "output_type": "stream",
          "name": "stdout",
          "text": [
            "Shape of English data example from training dataset:\n",
            " (16, 13, 128)\n",
            "\n",
            "German data example tensor from validation dataset:\n",
            " [[   1    4  209  149  407    3    2    0    0    0    0    0    0    0]\n",
            " [   1   27  601  154    3    2    0    0    0    0    0    0    0    0]\n",
            " [   1   14    6   50  575    3    2    0    0    0    0    0    0    0]\n",
            " [   1 1067   13  659    7    2    0    0    0    0    0    0    0    0]\n",
            " [   1   13   32  273    3    2    0    0    0    0    0    0    0    0]\n",
            " [   1    5   30   12  365    3    2    0    0    0    0    0    0    0]\n",
            " [   1   17  381   80    3    2    0    0    0    0    0    0    0    0]\n",
            " [   1   17   23  536    3    2    0    0    0    0    0    0    0    0]\n",
            " [   1 1454   26  269    3    2    0    0    0    0    0    0    0    0]\n",
            " [   1    4   30   28   12  114    3    2    0    0    0    0    0    0]\n",
            " [   1   43   16 2346    7    2    0    0    0    0    0    0    0    0]\n",
            " [   1  184   65    5    3    2    0    0    0    0    0    0    0    0]\n",
            " [   1   17   23  186   52    3    2    0    0    0    0    0    0    0]\n",
            " [   1   32   13  250    7    2    0    0    0    0    0    0    0    0]\n",
            " [   1  137   57  143    3    2    0    0    0    0    0    0    0    0]\n",
            " [   1    5  165  326   20   54    3    2    0    0    0    0    0    0]]\n",
            "  Shape of German data example: (16, 14)\n"
          ]
        }
      ],
      "source": [
        "# Print the shape of the English data example from the training Dataset\n",
        "for english_data, _ in train_dataset.take(1):\n",
        "  print(f'Shape of English data example from training dataset:\\n {english_data.shape}')\n",
        "  print()\n",
        "# Print the German data example Tensor from the validation Dataset\n",
        "for _, german_data in val_dataset.take(1):\n",
        "  print(f'German data example tensor from validation dataset:\\n {german_data}\\n\\\n",
        "  Shape of German data example: {german_data.shape}')"
      ]
    },
    {
      "cell_type": "markdown",
      "metadata": {
        "id": "isIYhjq01iay"
      },
      "source": [
        "## 3. Create the custom layer\n",
        "You will now create a custom layer to add the learned end token embedding to the encoder model:"
      ]
    },
    {
      "cell_type": "code",
      "execution_count": 22,
      "metadata": {
        "colab": {
          "base_uri": "https://localhost:8080/",
          "height": 423
        },
        "id": "e22f1Xyh6xvE",
        "outputId": "de93777b-d365-4dab-bed7-193010e4d879"
      },
      "outputs": [
        {
          "output_type": "execute_result",
          "data": {
            "image/png": "[encoded data removed]",
            "text/plain": [
              "<IPython.core.display.Image object>"
            ]
          },
          "metadata": {},
          "execution_count": 22
        }
      ],
      "source": [
        "# Run this cell to download and view a schematic diagram for the encoder model\n",
        "\n",
        "!wget -q -O neural_translation_model.png --no-check-certificate \"https://docs.google.com/uc?export=download&id=1JrtNOzUJDaOWrK4C-xv-4wUuZaI12sQI\"\n",
        "Image(\"neural_translation_model.png\")"
      ]
    },
    {
      "cell_type": "markdown",
      "metadata": {
        "id": "M6gLIHG81iaz"
      },
      "source": [
        "You should now build the custom layer.\n",
        "* Using layer subclassing, create a custom layer that takes a batch of English data examples from one of the Datasets, and adds a learned embedded ‘end’ token to the end of each sequence.\n",
        "* This layer should create a TensorFlow Variable (that will be learned during training) that is 128-dimensional (the size of the embedding space). _Hint: you may find it helpful in the call method to use the tf.tile function to replicate the end token embedding across every element in the batch._\n",
        "* Using the Dataset `.take(1)` method, extract a batch of English data examples from the training Dataset and print the shape. Test the custom layer by calling the layer on the English data batch Tensor and print the resulting Tensor shape (the layer should increase the sequence length by one)."
      ]
    },
    {
      "cell_type": "code",
      "execution_count": 23,
      "metadata": {
        "id": "yg9hjZz11ia0"
      },
      "outputs": [],
      "source": [
        "# Create a custom layer that takes a batch of English data examples\n",
        "# and adds a learned embedded ‘end’ token to the end of each sequence\n",
        "class EndTokenLayer(Layer):\n",
        "\n",
        "  def __init__(self, embedding_dim=128, **kwargs):\n",
        "    super(EndTokenLayer, self).__init__(**kwargs)\n",
        "    self.embedding_dim = embedding_dim\n",
        "\n",
        "  def build(self, input_shape):\n",
        "    self.end_token = self.add_weight(shape=(1, self.embedding_dim),\n",
        "                                     initializer=initializers.RandomNormal(),\n",
        "                                     trainable=True)\n",
        "\n",
        "  def call(self, inputs):\n",
        "    batch_size = tf.shape(inputs)[0]\n",
        "    end_token_tiled = tf.tile(self.end_token, [batch_size, 1])\n",
        "    end_token_tiled = tf.expand_dims(end_token_tiled, 1)\n",
        "    return tf.concat([inputs, end_token_tiled], axis=1)"
      ]
    },
    {
      "cell_type": "code",
      "execution_count": 24,
      "metadata": {
        "colab": {
          "base_uri": "https://localhost:8080/"
        },
        "id": "4PwI32O11ia3",
        "outputId": "57c9cfbf-d509-4dea-f6a0-ca98b2f56201"
      },
      "outputs": [
        {
          "output_type": "stream",
          "name": "stdout",
          "text": [
            "Shape of batch of English data:\n",
            " (16, 13, 128)\n"
          ]
        }
      ],
      "source": [
        "# Print the shape of a bacth of English data\n",
        "for english_data, _  in train_dataset.take(1):\n",
        "  print(f'Shape of batch of English data:\\n {english_data.shape}')"
      ]
    },
    {
      "cell_type": "code",
      "execution_count": 25,
      "metadata": {
        "colab": {
          "base_uri": "https://localhost:8080/"
        },
        "id": "ebjK8PmL1ia6",
        "outputId": "5da6b5a8-7d31-448d-9109-e5add6dfbcd6"
      },
      "outputs": [
        {
          "output_type": "stream",
          "name": "stdout",
          "text": [
            "Shape of batch of English data after custom layer:\n",
            " (16, 14, 128)\n"
          ]
        }
      ],
      "source": [
        "# Print the shape of the batch of English data after calling the custom layer\n",
        "end_token_layer = EndTokenLayer()\n",
        "print(f'Shape of batch of English data after custom layer:\\n {end_token_layer(english_data).shape}')"
      ]
    },
    {
      "cell_type": "markdown",
      "metadata": {
        "id": "OAd3i4_y1ia-"
      },
      "source": [
        "## 4. Build the encoder network\n",
        "The encoder network follows the schematic diagram above. You should now build the RNN encoder model.\n",
        "* Using the functional API, build the encoder network according to the following spec:\n",
        "    * The model will take a batch of sequences of embedded English words as input, as given by the Dataset objects.\n",
        "    * The next layer in the encoder will be the custom layer you created previously, to add a learned end token embedding to the end of the English sequence.\n",
        "    * This is followed by a Masking layer, with the `mask_value` set to the distinct padding value you used when you padded the English sequences with the Dataset preprocessing above.\n",
        "    * The final layer is an LSTM layer with 512 units, which also returns the hidden and cell states.\n",
        "    * The encoder is a multi-output model. There should be two output Tensors of this model: the hidden state and cell states of the LSTM layer. The output of the LSTM layer is unused.\n",
        "* Using the Dataset `.take(1)` method, extract a batch of English data examples from the training Dataset and test the encoder model by calling it on the English data Tensor, and print the shape of the resulting Tensor outputs.\n",
        "* Print the model summary for the encoder network."
      ]
    },
    {
      "cell_type": "code",
      "execution_count": 26,
      "metadata": {
        "id": "6R2LqbfV1ia_"
      },
      "outputs": [],
      "source": [
        "# Build the RNN encoder model using the functional API\n",
        "def encoder_model(input_shape):\n",
        "  inputs = Input(shape=input_shape)\n",
        "  outputs = EndTokenLayer()(inputs)\n",
        "  outputs = Masking(mask_value=0.)(outputs)\n",
        "  _, state_h, state_c = LSTM(units=512,\n",
        "                             return_state=True,\n",
        "                             kernel_regularizer=l2(0.01))(outputs)\n",
        "  encoder = Model(inputs=inputs, outputs=[state_h, state_c])\n",
        "  return encoder"
      ]
    },
    {
      "cell_type": "code",
      "execution_count": 27,
      "metadata": {
        "colab": {
          "base_uri": "https://localhost:8080/"
        },
        "id": "e5XW6NxL1ibC",
        "outputId": "dc4819bc-3778-4ddc-d62b-a820ac4463d7"
      },
      "outputs": [
        {
          "output_type": "stream",
          "name": "stdout",
          "text": [
            "Shape of hidden state:\n",
            " (16, 512)\n",
            "Shape of cell state:\n",
            " (16, 512)\n"
          ]
        }
      ],
      "source": [
        "# Test the encoder model by calling it on a batch of English data\n",
        "for english_data, _ in train_dataset.take(1):\n",
        "  break\n",
        "input_shape = english_data.shape[1:]\n",
        "encoder = encoder_model(input_shape)\n",
        "hidden_state, cell_state = encoder(english_data)\n",
        "print(f'Shape of hidden state:\\n {hidden_state.shape}')\n",
        "print(f'Shape of cell state:\\n {cell_state.shape}')"
      ]
    },
    {
      "cell_type": "code",
      "execution_count": 28,
      "metadata": {
        "colab": {
          "base_uri": "https://localhost:8080/",
          "height": 353
        },
        "id": "jEk9ikVh1ibL",
        "outputId": "a64b2ed3-da31-4b5c-ff88-79d987c6cd38"
      },
      "outputs": [
        {
          "output_type": "display_data",
          "data": {
            "text/plain": [
              "\u001b[1mModel: \"functional\"\u001b[0m\n"
            ],
            "text/html": [
              "<pre style=\"white-space:pre;overflow-x:auto;line-height:normal;font-family:Menlo,'DejaVu Sans Mono',consolas,'Courier New',monospace\"><span style=\"font-weight: bold\">Model: \"functional\"</span>\n",
              "</pre>\n"
            ]
          },
          "metadata": {}
        },
        {
          "output_type": "display_data",
          "data": {
            "text/plain": [
              "┏━━━━━━━━━━━━━━━━━━━━━━━━━━━┳━━━━━━━━━━━━━━━━━━━━━━━━┳━━━━━━━━━━━━━━━━┳━━━━━━━━━━━━━━━━━━━━━━━━┓\n",
              "┃\u001b[1m \u001b[0m\u001b[1mLayer (type)             \u001b[0m\u001b[1m \u001b[0m┃\u001b[1m \u001b[0m\u001b[1mOutput Shape          \u001b[0m\u001b[1m \u001b[0m┃\u001b[1m \u001b[0m\u001b[1m       Param #\u001b[0m\u001b[1m \u001b[0m┃\u001b[1m \u001b[0m\u001b[1mConnected to          \u001b[0m\u001b[1m \u001b[0m┃\n",
              "┡━━━━━━━━━━━━━━━━━━━━━━━━━━━╇━━━━━━━━━━━━━━━━━━━━━━━━╇━━━━━━━━━━━━━━━━╇━━━━━━━━━━━━━━━━━━━━━━━━┩\n",
              "│ input_layer (\u001b[38;5;33mInputLayer\u001b[0m)  │ (\u001b[38;5;45mNone\u001b[0m, \u001b[38;5;34m13\u001b[0m, \u001b[38;5;34m128\u001b[0m)        │              \u001b[38;5;34m0\u001b[0m │ -                      │\n",
              "├───────────────────────────┼────────────────────────┼────────────────┼────────────────────────┤\n",
              "│ end_token_layer_1         │ (\u001b[38;5;45mNone\u001b[0m, \u001b[38;5;34m14\u001b[0m, \u001b[38;5;34m128\u001b[0m)        │            \u001b[38;5;34m128\u001b[0m │ input_layer[\u001b[38;5;34m0\u001b[0m][\u001b[38;5;34m0\u001b[0m]      │\n",
              "│ (\u001b[38;5;33mEndTokenLayer\u001b[0m)           │                        │                │                        │\n",
              "├───────────────────────────┼────────────────────────┼────────────────┼────────────────────────┤\n",
              "│ not_equal (\u001b[38;5;33mNotEqual\u001b[0m)      │ (\u001b[38;5;45mNone\u001b[0m, \u001b[38;5;34m14\u001b[0m, \u001b[38;5;34m128\u001b[0m)        │              \u001b[38;5;34m0\u001b[0m │ end_token_layer_1[\u001b[38;5;34m0\u001b[0m][\u001b[38;5;34m…\u001b[0m │\n",
              "├───────────────────────────┼────────────────────────┼────────────────┼────────────────────────┤\n",
              "│ masking (\u001b[38;5;33mMasking\u001b[0m)         │ (\u001b[38;5;45mNone\u001b[0m, \u001b[38;5;34m14\u001b[0m, \u001b[38;5;34m128\u001b[0m)        │              \u001b[38;5;34m0\u001b[0m │ end_token_layer_1[\u001b[38;5;34m0\u001b[0m][\u001b[38;5;34m…\u001b[0m │\n",
              "├───────────────────────────┼────────────────────────┼────────────────┼────────────────────────┤\n",
              "│ any (\u001b[38;5;33mAny\u001b[0m)                 │ (\u001b[38;5;45mNone\u001b[0m, \u001b[38;5;34m14\u001b[0m)             │              \u001b[38;5;34m0\u001b[0m │ not_equal[\u001b[38;5;34m0\u001b[0m][\u001b[38;5;34m0\u001b[0m]        │\n",
              "├───────────────────────────┼────────────────────────┼────────────────┼────────────────────────┤\n",
              "│ lstm (\u001b[38;5;33mLSTM\u001b[0m)               │ [(\u001b[38;5;45mNone\u001b[0m, \u001b[38;5;34m512\u001b[0m), (\u001b[38;5;45mNone\u001b[0m,   │      \u001b[38;5;34m1,312,768\u001b[0m │ masking[\u001b[38;5;34m0\u001b[0m][\u001b[38;5;34m0\u001b[0m],         │\n",
              "│                           │ \u001b[38;5;34m512\u001b[0m), (\u001b[38;5;45mNone\u001b[0m, \u001b[38;5;34m512\u001b[0m)]     │                │ any[\u001b[38;5;34m0\u001b[0m][\u001b[38;5;34m0\u001b[0m]              │\n",
              "└───────────────────────────┴────────────────────────┴────────────────┴────────────────────────┘\n"
            ],
            "text/html": [
              "<pre style=\"white-space:pre;overflow-x:auto;line-height:normal;font-family:Menlo,'DejaVu Sans Mono',consolas,'Courier New',monospace\">┏━━━━━━━━━━━━━━━━━━━━━━━━━━━┳━━━━━━━━━━━━━━━━━━━━━━━━┳━━━━━━━━━━━━━━━━┳━━━━━━━━━━━━━━━━━━━━━━━━┓\n",
              "┃<span style=\"font-weight: bold\"> Layer (type)              </span>┃<span style=\"font-weight: bold\"> Output Shape           </span>┃<span style=\"font-weight: bold\">        Param # </span>┃<span style=\"font-weight: bold\"> Connected to           </span>┃\n",
              "┡━━━━━━━━━━━━━━━━━━━━━━━━━━━╇━━━━━━━━━━━━━━━━━━━━━━━━╇━━━━━━━━━━━━━━━━╇━━━━━━━━━━━━━━━━━━━━━━━━┩\n",
              "│ input_layer (<span style=\"color: #0087ff; text-decoration-color: #0087ff\">InputLayer</span>)  │ (<span style=\"color: #00d7ff; text-decoration-color: #00d7ff\">None</span>, <span style=\"color: #00af00; text-decoration-color: #00af00\">13</span>, <span style=\"color: #00af00; text-decoration-color: #00af00\">128</span>)        │              <span style=\"color: #00af00; text-decoration-color: #00af00\">0</span> │ -                      │\n",
              "├───────────────────────────┼────────────────────────┼────────────────┼────────────────────────┤\n",
              "│ end_token_layer_1         │ (<span style=\"color: #00d7ff; text-decoration-color: #00d7ff\">None</span>, <span style=\"color: #00af00; text-decoration-color: #00af00\">14</span>, <span style=\"color: #00af00; text-decoration-color: #00af00\">128</span>)        │            <span style=\"color: #00af00; text-decoration-color: #00af00\">128</span> │ input_layer[<span style=\"color: #00af00; text-decoration-color: #00af00\">0</span>][<span style=\"color: #00af00; text-decoration-color: #00af00\">0</span>]      │\n",
              "│ (<span style=\"color: #0087ff; text-decoration-color: #0087ff\">EndTokenLayer</span>)           │                        │                │                        │\n",
              "├───────────────────────────┼────────────────────────┼────────────────┼────────────────────────┤\n",
              "│ not_equal (<span style=\"color: #0087ff; text-decoration-color: #0087ff\">NotEqual</span>)      │ (<span style=\"color: #00d7ff; text-decoration-color: #00d7ff\">None</span>, <span style=\"color: #00af00; text-decoration-color: #00af00\">14</span>, <span style=\"color: #00af00; text-decoration-color: #00af00\">128</span>)        │              <span style=\"color: #00af00; text-decoration-color: #00af00\">0</span> │ end_token_layer_1[<span style=\"color: #00af00; text-decoration-color: #00af00\">0</span>][<span style=\"color: #00af00; text-decoration-color: #00af00\">…</span> │\n",
              "├───────────────────────────┼────────────────────────┼────────────────┼────────────────────────┤\n",
              "│ masking (<span style=\"color: #0087ff; text-decoration-color: #0087ff\">Masking</span>)         │ (<span style=\"color: #00d7ff; text-decoration-color: #00d7ff\">None</span>, <span style=\"color: #00af00; text-decoration-color: #00af00\">14</span>, <span style=\"color: #00af00; text-decoration-color: #00af00\">128</span>)        │              <span style=\"color: #00af00; text-decoration-color: #00af00\">0</span> │ end_token_layer_1[<span style=\"color: #00af00; text-decoration-color: #00af00\">0</span>][<span style=\"color: #00af00; text-decoration-color: #00af00\">…</span> │\n",
              "├───────────────────────────┼────────────────────────┼────────────────┼────────────────────────┤\n",
              "│ any (<span style=\"color: #0087ff; text-decoration-color: #0087ff\">Any</span>)                 │ (<span style=\"color: #00d7ff; text-decoration-color: #00d7ff\">None</span>, <span style=\"color: #00af00; text-decoration-color: #00af00\">14</span>)             │              <span style=\"color: #00af00; text-decoration-color: #00af00\">0</span> │ not_equal[<span style=\"color: #00af00; text-decoration-color: #00af00\">0</span>][<span style=\"color: #00af00; text-decoration-color: #00af00\">0</span>]        │\n",
              "├───────────────────────────┼────────────────────────┼────────────────┼────────────────────────┤\n",
              "│ lstm (<span style=\"color: #0087ff; text-decoration-color: #0087ff\">LSTM</span>)               │ [(<span style=\"color: #00d7ff; text-decoration-color: #00d7ff\">None</span>, <span style=\"color: #00af00; text-decoration-color: #00af00\">512</span>), (<span style=\"color: #00d7ff; text-decoration-color: #00d7ff\">None</span>,   │      <span style=\"color: #00af00; text-decoration-color: #00af00\">1,312,768</span> │ masking[<span style=\"color: #00af00; text-decoration-color: #00af00\">0</span>][<span style=\"color: #00af00; text-decoration-color: #00af00\">0</span>],         │\n",
              "│                           │ <span style=\"color: #00af00; text-decoration-color: #00af00\">512</span>), (<span style=\"color: #00d7ff; text-decoration-color: #00d7ff\">None</span>, <span style=\"color: #00af00; text-decoration-color: #00af00\">512</span>)]     │                │ any[<span style=\"color: #00af00; text-decoration-color: #00af00\">0</span>][<span style=\"color: #00af00; text-decoration-color: #00af00\">0</span>]              │\n",
              "└───────────────────────────┴────────────────────────┴────────────────┴────────────────────────┘\n",
              "</pre>\n"
            ]
          },
          "metadata": {}
        },
        {
          "output_type": "display_data",
          "data": {
            "text/plain": [
              "\u001b[1m Total params: \u001b[0m\u001b[38;5;34m1,312,896\u001b[0m (5.01 MB)\n"
            ],
            "text/html": [
              "<pre style=\"white-space:pre;overflow-x:auto;line-height:normal;font-family:Menlo,'DejaVu Sans Mono',consolas,'Courier New',monospace\"><span style=\"font-weight: bold\"> Total params: </span><span style=\"color: #00af00; text-decoration-color: #00af00\">1,312,896</span> (5.01 MB)\n",
              "</pre>\n"
            ]
          },
          "metadata": {}
        },
        {
          "output_type": "display_data",
          "data": {
            "text/plain": [
              "\u001b[1m Trainable params: \u001b[0m\u001b[38;5;34m1,312,896\u001b[0m (5.01 MB)\n"
            ],
            "text/html": [
              "<pre style=\"white-space:pre;overflow-x:auto;line-height:normal;font-family:Menlo,'DejaVu Sans Mono',consolas,'Courier New',monospace\"><span style=\"font-weight: bold\"> Trainable params: </span><span style=\"color: #00af00; text-decoration-color: #00af00\">1,312,896</span> (5.01 MB)\n",
              "</pre>\n"
            ]
          },
          "metadata": {}
        },
        {
          "output_type": "display_data",
          "data": {
            "text/plain": [
              "\u001b[1m Non-trainable params: \u001b[0m\u001b[38;5;34m0\u001b[0m (0.00 B)\n"
            ],
            "text/html": [
              "<pre style=\"white-space:pre;overflow-x:auto;line-height:normal;font-family:Menlo,'DejaVu Sans Mono',consolas,'Courier New',monospace\"><span style=\"font-weight: bold\"> Non-trainable params: </span><span style=\"color: #00af00; text-decoration-color: #00af00\">0</span> (0.00 B)\n",
              "</pre>\n"
            ]
          },
          "metadata": {}
        }
      ],
      "source": [
        "# Print the model summary for the encoder network\n",
        "encoder.summary()"
      ]
    },
    {
      "cell_type": "markdown",
      "metadata": {
        "id": "KvkzpCeZ1ibR"
      },
      "source": [
        "## 5. Build the decoder network\n",
        "The decoder network follows the schematic diagram below."
      ]
    },
    {
      "cell_type": "code",
      "execution_count": 29,
      "metadata": {
        "colab": {
          "base_uri": "https://localhost:8080/",
          "height": 501
        },
        "id": "yOjEb7cH7Y4S",
        "outputId": "530fe8b9-0d40-466a-d6f2-3b19b2cd13ac"
      },
      "outputs": [
        {
          "output_type": "execute_result",
          "data": {
            "image/png": "[encoded data removed]",
            "text/plain": [
              "<IPython.core.display.Image object>"
            ]
          },
          "metadata": {},
          "execution_count": 29
        }
      ],
      "source": [
        "# Run this cell to download and view a schematic diagram for the decoder model\n",
        "\n",
        "!wget -q -O neural_translation_model.png --no-check-certificate \"https://docs.google.com/uc?export=download&id=1DTeaXD8tA8RjkpVrB2mr9csSBOY4LQiW\"\n",
        "Image(\"neural_translation_model.png\")"
      ]
    },
    {
      "cell_type": "markdown",
      "metadata": {
        "id": "VPBK8WGL1ibS"
      },
      "source": [
        "You should now build the RNN decoder model.\n",
        "* Using Model subclassing, build the decoder network according to the following spec:\n",
        "    * The initializer should create the following layers:\n",
        "        * An Embedding layer with vocabulary size set to the number of unique German tokens, embedding dimension 128, and set to mask zero values in the input.\n",
        "        * An LSTM layer with 512 units, that returns its hidden and cell states, and also returns sequences.\n",
        "        * A Dense layer with number of units equal to the number of unique German tokens, and no activation function.\n",
        "    * The call method should include the usual `inputs` argument, as well as the additional keyword arguments `hidden_state` and `cell_state`. The default value for these keyword arguments should be `None`.\n",
        "    * The call method should pass the inputs through the Embedding layer, and then through the LSTM layer. If the `hidden_state` and `cell_state` arguments are provided, these should be used for the initial state of the LSTM layer. _Hint: use the_ `initial_state` _keyword argument when calling the LSTM layer on its input._\n",
        "    * The call method should pass the LSTM output sequence through the Dense layer, and return the resulting Tensor, along with the hidden and cell states of the LSTM layer.\n",
        "* Using the Dataset `.take(1)` method, extract a batch of English and German data examples from the training Dataset. Test the decoder model by first calling the encoder model on the English data Tensor to get the hidden and cell states, and then call the decoder model on the German data Tensor and hidden and cell states, and print the shape of the resulting decoder Tensor outputs.\n",
        "* Print the model summary for the decoder network."
      ]
    },
    {
      "cell_type": "code",
      "execution_count": 30,
      "metadata": {
        "id": "l50qhnXD1ibT"
      },
      "outputs": [],
      "source": [
        "# Build the decoder network using the Model subclassing API\n",
        "class DecoderNetwork(Model):\n",
        "\n",
        "  def __init__(self, german_vocab_size, **kwargs):\n",
        "    super(DecoderNetwork, self).__init__(**kwargs)\n",
        "    self.embedding = Embedding(input_dim=german_vocab_size, output_dim=128, mask_zero=True)\n",
        "    self.lstm = LSTM(units=512,\n",
        "                     return_sequences=True,\n",
        "                     return_state=True,\n",
        "                     kernel_regularizer=l2(0.01))\n",
        "    self.dense = Dense(units=german_vocab_size, kernel_regularizer=l2(0.01))\n",
        "\n",
        "  def call(self, inputs, hidden_state=None, cell_state=None):\n",
        "    outputs = self.embedding(inputs)\n",
        "    outputs, hidden_state, cell_state = self.lstm(outputs, initial_state=[hidden_state, cell_state])\n",
        "    outputs = self.dense(outputs)\n",
        "    return outputs, hidden_state, cell_state"
      ]
    },
    {
      "cell_type": "code",
      "execution_count": 31,
      "metadata": {
        "colab": {
          "base_uri": "https://localhost:8080/"
        },
        "id": "vG5CRIXV1ibi",
        "outputId": "2ae4586f-8a90-4838-e43f-06aa05e8e93a"
      },
      "outputs": [
        {
          "output_type": "stream",
          "name": "stdout",
          "text": [
            "Shape of decoder output: (16, 14, 5744)\n",
            "Shape of decoder hidden state: (16, 512)\n",
            "Shape of decoder cell state: (16, 512)\n"
          ]
        }
      ],
      "source": [
        "# Test the decoder model by first calling the encoder model on the English data Tensor\n",
        "# to get the hidden and cell states, and then call the decoder model on the German data Tensor\n",
        "for english_data, german_data in train_dataset.take(1):\n",
        "  break\n",
        "german_vocab_size = len(tokenizer.word_index)+1\n",
        "decoder = DecoderNetwork(german_vocab_size)\n",
        "hidden_state, cell_state = encoder(english_data)\n",
        "decoder_output, decoder_hidden_state, decoder_cell_state = decoder(german_data, hidden_state, cell_state)\n",
        "\n",
        "#Print the shape of the resulting decoder Tensor outputs\n",
        "print(f'Shape of decoder output: {decoder_output.shape}')\n",
        "print(f'Shape of decoder hidden state: {decoder_hidden_state.shape}')\n",
        "print(f'Shape of decoder cell state: {decoder_cell_state.shape}')"
      ]
    },
    {
      "cell_type": "code",
      "execution_count": 32,
      "metadata": {
        "colab": {
          "base_uri": "https://localhost:8080/",
          "height": 241
        },
        "id": "SvqqT_ET1ibl",
        "outputId": "8700e5f9-11e8-452f-a887-ce6538819480"
      },
      "outputs": [
        {
          "output_type": "display_data",
          "data": {
            "text/plain": [
              "\u001b[1mModel: \"decoder_network\"\u001b[0m\n"
            ],
            "text/html": [
              "<pre style=\"white-space:pre;overflow-x:auto;line-height:normal;font-family:Menlo,'DejaVu Sans Mono',consolas,'Courier New',monospace\"><span style=\"font-weight: bold\">Model: \"decoder_network\"</span>\n",
              "</pre>\n"
            ]
          },
          "metadata": {}
        },
        {
          "output_type": "display_data",
          "data": {
            "text/plain": [
              "┏━━━━━━━━━━━━━━━━━━━━━━━━━━━━━━━━━━━━━━┳━━━━━━━━━━━━━━━━━━━━━━━━━━━━━┳━━━━━━━━━━━━━━━━━┓\n",
              "┃\u001b[1m \u001b[0m\u001b[1mLayer (type)                        \u001b[0m\u001b[1m \u001b[0m┃\u001b[1m \u001b[0m\u001b[1mOutput Shape               \u001b[0m\u001b[1m \u001b[0m┃\u001b[1m \u001b[0m\u001b[1m        Param #\u001b[0m\u001b[1m \u001b[0m┃\n",
              "┡━━━━━━━━━━━━━━━━━━━━━━━━━━━━━━━━━━━━━━╇━━━━━━━━━━━━━━━━━━━━━━━━━━━━━╇━━━━━━━━━━━━━━━━━┩\n",
              "│ embedding (\u001b[38;5;33mEmbedding\u001b[0m)                │ (\u001b[38;5;34m16\u001b[0m, \u001b[38;5;34m14\u001b[0m, \u001b[38;5;34m128\u001b[0m)               │         \u001b[38;5;34m735,232\u001b[0m │\n",
              "├──────────────────────────────────────┼─────────────────────────────┼─────────────────┤\n",
              "│ lstm_1 (\u001b[38;5;33mLSTM\u001b[0m)                        │ ((\u001b[38;5;34m16\u001b[0m, \u001b[38;5;34m14\u001b[0m, \u001b[38;5;34m512\u001b[0m), (\u001b[38;5;34m16\u001b[0m, \u001b[38;5;34m512\u001b[0m),  │       \u001b[38;5;34m1,312,768\u001b[0m │\n",
              "│                                      │ (\u001b[38;5;34m16\u001b[0m, \u001b[38;5;34m512\u001b[0m))                  │                 │\n",
              "├──────────────────────────────────────┼─────────────────────────────┼─────────────────┤\n",
              "│ dense (\u001b[38;5;33mDense\u001b[0m)                        │ (\u001b[38;5;34m16\u001b[0m, \u001b[38;5;34m14\u001b[0m, \u001b[38;5;34m5744\u001b[0m)              │       \u001b[38;5;34m2,946,672\u001b[0m │\n",
              "└──────────────────────────────────────┴─────────────────────────────┴─────────────────┘\n"
            ],
            "text/html": [
              "<pre style=\"white-space:pre;overflow-x:auto;line-height:normal;font-family:Menlo,'DejaVu Sans Mono',consolas,'Courier New',monospace\">┏━━━━━━━━━━━━━━━━━━━━━━━━━━━━━━━━━━━━━━┳━━━━━━━━━━━━━━━━━━━━━━━━━━━━━┳━━━━━━━━━━━━━━━━━┓\n",
              "┃<span style=\"font-weight: bold\"> Layer (type)                         </span>┃<span style=\"font-weight: bold\"> Output Shape                </span>┃<span style=\"font-weight: bold\">         Param # </span>┃\n",
              "┡━━━━━━━━━━━━━━━━━━━━━━━━━━━━━━━━━━━━━━╇━━━━━━━━━━━━━━━━━━━━━━━━━━━━━╇━━━━━━━━━━━━━━━━━┩\n",
              "│ embedding (<span style=\"color: #0087ff; text-decoration-color: #0087ff\">Embedding</span>)                │ (<span style=\"color: #00af00; text-decoration-color: #00af00\">16</span>, <span style=\"color: #00af00; text-decoration-color: #00af00\">14</span>, <span style=\"color: #00af00; text-decoration-color: #00af00\">128</span>)               │         <span style=\"color: #00af00; text-decoration-color: #00af00\">735,232</span> │\n",
              "├──────────────────────────────────────┼─────────────────────────────┼─────────────────┤\n",
              "│ lstm_1 (<span style=\"color: #0087ff; text-decoration-color: #0087ff\">LSTM</span>)                        │ ((<span style=\"color: #00af00; text-decoration-color: #00af00\">16</span>, <span style=\"color: #00af00; text-decoration-color: #00af00\">14</span>, <span style=\"color: #00af00; text-decoration-color: #00af00\">512</span>), (<span style=\"color: #00af00; text-decoration-color: #00af00\">16</span>, <span style=\"color: #00af00; text-decoration-color: #00af00\">512</span>),  │       <span style=\"color: #00af00; text-decoration-color: #00af00\">1,312,768</span> │\n",
              "│                                      │ (<span style=\"color: #00af00; text-decoration-color: #00af00\">16</span>, <span style=\"color: #00af00; text-decoration-color: #00af00\">512</span>))                  │                 │\n",
              "├──────────────────────────────────────┼─────────────────────────────┼─────────────────┤\n",
              "│ dense (<span style=\"color: #0087ff; text-decoration-color: #0087ff\">Dense</span>)                        │ (<span style=\"color: #00af00; text-decoration-color: #00af00\">16</span>, <span style=\"color: #00af00; text-decoration-color: #00af00\">14</span>, <span style=\"color: #00af00; text-decoration-color: #00af00\">5744</span>)              │       <span style=\"color: #00af00; text-decoration-color: #00af00\">2,946,672</span> │\n",
              "└──────────────────────────────────────┴─────────────────────────────┴─────────────────┘\n",
              "</pre>\n"
            ]
          },
          "metadata": {}
        },
        {
          "output_type": "display_data",
          "data": {
            "text/plain": [
              "\u001b[1m Total params: \u001b[0m\u001b[38;5;34m4,994,672\u001b[0m (19.05 MB)\n"
            ],
            "text/html": [
              "<pre style=\"white-space:pre;overflow-x:auto;line-height:normal;font-family:Menlo,'DejaVu Sans Mono',consolas,'Courier New',monospace\"><span style=\"font-weight: bold\"> Total params: </span><span style=\"color: #00af00; text-decoration-color: #00af00\">4,994,672</span> (19.05 MB)\n",
              "</pre>\n"
            ]
          },
          "metadata": {}
        },
        {
          "output_type": "display_data",
          "data": {
            "text/plain": [
              "\u001b[1m Trainable params: \u001b[0m\u001b[38;5;34m4,994,672\u001b[0m (19.05 MB)\n"
            ],
            "text/html": [
              "<pre style=\"white-space:pre;overflow-x:auto;line-height:normal;font-family:Menlo,'DejaVu Sans Mono',consolas,'Courier New',monospace\"><span style=\"font-weight: bold\"> Trainable params: </span><span style=\"color: #00af00; text-decoration-color: #00af00\">4,994,672</span> (19.05 MB)\n",
              "</pre>\n"
            ]
          },
          "metadata": {}
        },
        {
          "output_type": "display_data",
          "data": {
            "text/plain": [
              "\u001b[1m Non-trainable params: \u001b[0m\u001b[38;5;34m0\u001b[0m (0.00 B)\n"
            ],
            "text/html": [
              "<pre style=\"white-space:pre;overflow-x:auto;line-height:normal;font-family:Menlo,'DejaVu Sans Mono',consolas,'Courier New',monospace\"><span style=\"font-weight: bold\"> Non-trainable params: </span><span style=\"color: #00af00; text-decoration-color: #00af00\">0</span> (0.00 B)\n",
              "</pre>\n"
            ]
          },
          "metadata": {}
        }
      ],
      "source": [
        "# Print the model summary for the decoder network\n",
        "decoder.summary()"
      ]
    },
    {
      "cell_type": "markdown",
      "metadata": {
        "id": "pST9XGJ81ibo"
      },
      "source": [
        "## 6. Make a custom training loop\n",
        "You should now write a custom training loop to train your custom neural translation model.\n",
        "* Define a function that takes a Tensor batch of German data (as extracted from the training Dataset), and returns a tuple containing German inputs and outputs for the decoder model (refer to schematic diagram above).\n",
        "* Define a function that computes the forward and backward pass for your translation model. This function should take an English input, German input and German output as arguments, and should do the following:\n",
        "    * Pass the English input into the encoder, to get the hidden and cell states of the encoder LSTM.\n",
        "    * These hidden and cell states are then passed into the decoder, along with the German inputs, which returns a sequence of outputs (the hidden and cell state outputs of the decoder LSTM are unused in this function).\n",
        "    * The loss should then be computed between the decoder outputs and the German output function argument.\n",
        "    * The function returns the loss and gradients with respect to the encoder and decoder’s trainable variables.\n",
        "    * Decorate the function with `@tf.function`\n",
        "* Define and run a custom training loop for a number of epochs (for you to choose) that does the following:\n",
        "    * Iterates through the training dataset, and creates decoder inputs and outputs from the German sequences.\n",
        "    * Updates the parameters of the translation model using the gradients of the function above and an optimizer object.\n",
        "    * Every epoch, compute the validation loss on a number of batches from the validation and save the epoch training and validation losses.\n",
        "* Plot the learning curves for loss vs epoch for both training and validation sets.\n",
        "\n",
        "_Hint: This model is computationally demanding to train. The quality of the model or length of training is not a factor in the grading rubric. However, to obtain a better model we recommend using the GPU accelerator hardware on Colab._"
      ]
    },
    {
      "cell_type": "code",
      "execution_count": null,
      "metadata": {
        "id": "7hJHbWqs1ibr"
      },
      "outputs": [],
      "source": [
        "# Define function that returns a tuple with German inputs and outputs for the decoder model\n",
        "def get_german(german_data):\n",
        "  german_inputs = german_data[:, :-1]\n",
        "  german_outputs = german_data[:, 1:]\n",
        "  return german_inputs, german_outputs"
      ]
    },
    {
      "cell_type": "code",
      "execution_count": null,
      "metadata": {
        "id": "Jvu4J4-u1ibu"
      },
      "outputs": [],
      "source": [
        "# Define loss function\n",
        "loss_fcn = SparseCategoricalCrossentropy(from_logits=True)\n",
        "\n",
        "@tf.function # Cosmetic decorator to speed up training\n",
        "# Define function that computes forward and backward pass for translation model\n",
        "def passes(english_input, german_input, german_output):\n",
        "  with tf.GradientTape() as tape:\n",
        "    hidden_state, cell_state = encoder(english_input)\n",
        "    decoder_output, _, _ = decoder(german_input, hidden_state, cell_state)\n",
        "    loss = tf.reduce_mean(loss_fcn(german_output, decoder_output))\n",
        "    grads = tape.gradient(loss, encoder.trainable_variables + decoder.trainable_variables)\n",
        "  return loss, grads"
      ]
    },
    {
      "cell_type": "code",
      "execution_count": null,
      "metadata": {
        "id": "Vl5H06811ibx"
      },
      "outputs": [],
      "source": [
        "# Define parameters for training loop\n",
        "optimizer = Adam(learning_rate=0.0005)\n",
        "epochs = 10\n",
        "train_losses = []\n",
        "val_losses = []"
      ]
    },
    {
      "cell_type": "code",
      "execution_count": null,
      "metadata": {
        "colab": {
          "base_uri": "https://localhost:8080/"
        },
        "id": "MVWOYJ3l1ib1",
        "outputId": "789ec9fc-c4a8-4a3a-a52a-69608b487873"
      },
      "outputs": [
        {
          "output_type": "stream",
          "name": "stdout",
          "text": [
            "Epoch: 1, Training loss: 3.551, Validation loss: 2.846\n",
            "Epoch: 2, Training loss: 2.595, Validation loss: 2.536\n",
            "Epoch: 3, Training loss: 2.263, Validation loss: 2.363\n",
            "Epoch: 4, Training loss: 1.989, Validation loss: 2.239\n",
            "Epoch: 5, Training loss: 1.760, Validation loss: 2.188\n",
            "Epoch: 6, Training loss: 1.567, Validation loss: 2.153\n",
            "Epoch: 7, Training loss: 1.407, Validation loss: 2.163\n",
            "Epoch: 8, Training loss: 1.283, Validation loss: 2.142\n",
            "Epoch: 9, Training loss: 1.173, Validation loss: 2.150\n",
            "Epoch: 10, Training loss: 1.075, Validation loss: 2.162\n",
            "CPU times: user 49min 48s, sys: 1h 53min 35s, total: 2h 43min 23s\n",
            "Wall time: 2h 39min 29s\n"
          ]
        }
      ],
      "source": [
        "%%time\n",
        "\n",
        "# Custom training loop\n",
        "for epoch in range(epochs): # Outer loop for epochs\n",
        "  train_batch_losses = []\n",
        "  val_batch_losses = []\n",
        "\n",
        "# Inner loop for batches in training dataset\n",
        "  for english_data, german_data in train_dataset:\n",
        "    german_inputs, german_outputs = get_german(german_data)\n",
        "    loss, grads = passes(english_data, german_inputs, german_outputs)\n",
        "    train_batch_losses.append(loss)\n",
        "    optimizer.apply_gradients(zip(grads, encoder.trainable_variables + decoder.trainable_variables))\n",
        "\n",
        "# Inner loop for batches in validation dataset\n",
        "  for english_data,  german_data in val_dataset.take(20):\n",
        "    german_inputs, german_outputs = get_german(german_data)\n",
        "    val_loss, _ = passes(english_data, german_inputs, german_outputs)\n",
        "    val_batch_losses.append(val_loss)\n",
        "\n",
        "# Record training and validation losses\n",
        "  train_losses.append(np.mean(train_batch_losses))\n",
        "  val_losses.append(np.mean(val_batch_losses))\n",
        "  print(f'Epoch: {epoch+1}, Training loss: {train_losses[-1]:.3f}, Validation loss: {val_losses[-1]:.3f}')"
      ]
    },
    {
      "cell_type": "code",
      "execution_count": null,
      "metadata": {
        "colab": {
          "base_uri": "https://localhost:8080/",
          "height": 410
        },
        "id": "6VSmBdwT1ib4",
        "outputId": "8ade2def-4ef8-45fd-d141-0cf4f682b60b"
      },
      "outputs": [
        {
          "output_type": "display_data",
          "data": {
            "text/plain": [
              "<Figure size 800x400 with 1 Axes>"
            ],
            "image/png": "[encoded data removed]"
          },
          "metadata": {}
        }
      ],
      "source": [
        "# Plot learning curves for loss vs epoch for both training and validation sets\n",
        "plt.figure(figsize=(8,4))\n",
        "plt.plot(train_losses, label='Training Loss')\n",
        "plt.plot(val_losses, label='Validation Loss')\n",
        "plt.title('Training and Validation Loss')\n",
        "plt.xlabel('Epochs')\n",
        "plt.xticks(range(epochs))\n",
        "plt.ylabel('Loss')\n",
        "plt.legend()\n",
        "plt.show()"
      ]
    },
    {
      "cell_type": "markdown",
      "metadata": {
        "id": "xM2gvBM11ib-"
      },
      "source": [
        "## 7. Use the model to translate\n",
        "Now it's time to put your model into practice! You should run your translation for five randomly sampled English sentences from the dataset. For each sentence, the process is as follows:\n",
        "* Preprocess and embed the English sentence according to the model requirements.\n",
        "* Pass the embedded sentence through the encoder to get the encoder hidden and cell states.\n",
        "* Starting with the special  `\"<start>\"` token, use this token and the final encoder hidden and cell states to get the one-step prediction from the decoder, as well as the decoder’s updated hidden and cell states.\n",
        "* Create a loop to get the next step prediction and updated hidden and cell states from the decoder, using the most recent hidden and cell states. Terminate the loop when the `\"<end>\"` token is emitted, or when the sentence has reached a maximum length.\n",
        "* Decode the output token sequence into German text and print the English text and the model's German translation."
      ]
    },
    {
      "cell_type": "code",
      "execution_count": null,
      "metadata": {
        "id": "bGnQtE7L1icA"
      },
      "outputs": [],
      "source": [
        "# Sample 5 random English sentences from the dataset\n",
        "n_samples = 5\n",
        "rng = np.random.default_rng()\n",
        "indices = rng.choice(len(english_sentences), size=n_samples, replace=False)"
      ]
    },
    {
      "cell_type": "code",
      "execution_count": null,
      "metadata": {
        "colab": {
          "base_uri": "https://localhost:8080/"
        },
        "id": "Unk60cEy1icI",
        "outputId": "06746d32-e57b-4603-a135-0b3115d328a6"
      },
      "outputs": [
        {
          "output_type": "stream",
          "name": "stdout",
          "text": [
            "English sentence: Who was it?\n",
            "German translation: ['wer ist das ?']\n",
            "\n",
            "English sentence: He's lying.\n",
            "German translation: ['er ist elegant .']\n",
            "\n",
            "English sentence: I am fine.\n",
            "German translation: ['ich bin ein mensch .']\n",
            "\n",
            "English sentence: I bought it.\n",
            "German translation: ['ich habe es gefunden .']\n",
            "\n",
            "English sentence: Come over.\n",
            "German translation: ['komm herein .']\n",
            "\n"
          ]
        }
      ],
      "source": [
        "# Loop through the samped English sentences\n",
        "for i in range(len(indices)):\n",
        "# Preprocess and embed English sentences\n",
        "  english_sentence = data_examples[indices[i]].split('\\t')[0]\n",
        "  preprocessed_english_sentence = preprocess_sentence(english_sentence)\n",
        "  split_english_sentence = tf.strings.split(preprocessed_english_sentence, sep=None)\n",
        "  embedded_english_sentence = embedding_layer(split_english_sentence)\n",
        "  padding_size = tf.math.maximum(13-tf.shape(embedded_english_sentence)[0], 0)\n",
        "  padded_sentence = tf.pad(embedded_english_sentence,\n",
        "                                     paddings=[[padding_size, 0], [0, 0]],\n",
        "                                     mode='CONSTANT', constant_values=-1.)\n",
        "  reshaped_sentence = tf.expand_dims(padded_sentence, axis=0)\n",
        "\n",
        "# Pass the sentences through the encoder and obtain hidden and cell states\n",
        "  hidden_state, cell_state = encoder(reshaped_sentence)\n",
        "\n",
        "  dec_input = tf.expand_dims([tokenizer.word_index['<start>']],0)\n",
        "  decoded_tokens = []\n",
        "  max_length = 15\n",
        "# Translation loop using the decoder\n",
        "  for t in range(max_length):\n",
        "    dec_output, dec_hidden, dec_cell = decoder(dec_input, hidden_state, cell_state)\n",
        "    predicted_token = tf.argmax(dec_output[0][0]).numpy()\n",
        "\n",
        "    if predicted_token == tokenizer.word_index['<end>']:\n",
        "      break\n",
        "\n",
        "    decoded_tokens.append(predicted_token)\n",
        "    dec_input = tf.expand_dims([predicted_token],0)\n",
        "    hidden_state = dec_hidden\n",
        "    cell_state = dec_cell\n",
        "\n",
        "  translated_sentence = tokenizer.sequences_to_texts([decoded_tokens])\n",
        "# Print the English sentence and the model's German translation\n",
        "  print(f'English sentence: {english_sentence}')\n",
        "  print(f'German translation: {translated_sentence}')\n",
        "  print()"
      ]
    }
  ],
  "metadata": {
    "colab": {
      "provenance": []
    },
    "kernelspec": {
      "display_name": "Python 3",
      "name": "python3"
    },
    "language_info": {
      "name": "python"
    }
  },
  "nbformat": 4,
  "nbformat_minor": 0
}